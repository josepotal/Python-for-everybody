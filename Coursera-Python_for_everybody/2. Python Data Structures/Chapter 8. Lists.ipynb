{
 "cells": [
  {
   "cell_type": "code",
   "execution_count": 2,
   "metadata": {
    "collapsed": false
   },
   "outputs": [
    {
     "name": "stdout",
     "output_type": "stream",
     "text": [
      "['Josep', 'Glenn', 'Sally']\n"
     ]
    }
   ],
   "source": [
    "# Lists are a collection\n",
    "\n",
    "friends = ['Josep','Glenn','Sally']\n",
    "print friends"
   ]
  },
  {
   "cell_type": "code",
   "execution_count": 5,
   "metadata": {
    "collapsed": false
   },
   "outputs": [
    {
     "name": "stdout",
     "output_type": "stream",
     "text": [
      "Josep\n",
      "Sally\n"
     ]
    }
   ],
   "source": [
    "# looking inside the lists\n",
    "print friends [0]\n",
    "print friends [2]"
   ]
  },
  {
   "cell_type": "markdown",
   "metadata": {},
   "source": [
    "- Lists are mutable \n",
    "- Strings are immutable"
   ]
  },
  {
   "cell_type": "code",
   "execution_count": 7,
   "metadata": {
    "collapsed": false
   },
   "outputs": [
    {
     "ename": "TypeError",
     "evalue": "'str' object does not support item assignment",
     "output_type": "error",
     "traceback": [
      "\u001b[1;31m---------------------------------------------------------------------------\u001b[0m",
      "\u001b[1;31mTypeError\u001b[0m                                 Traceback (most recent call last)",
      "\u001b[1;32m<ipython-input-7-9324874ba47a>\u001b[0m in \u001b[0;36m<module>\u001b[1;34m()\u001b[0m\n\u001b[0;32m      1\u001b[0m \u001b[0mfruit\u001b[0m \u001b[1;33m=\u001b[0m \u001b[1;34m'banana'\u001b[0m\u001b[1;33m\u001b[0m\u001b[0m\n\u001b[1;32m----> 2\u001b[1;33m \u001b[0mfruit\u001b[0m\u001b[1;33m[\u001b[0m\u001b[1;36m0\u001b[0m\u001b[1;33m]\u001b[0m \u001b[1;33m=\u001b[0m\u001b[1;34m'b'\u001b[0m\u001b[1;33m\u001b[0m\u001b[0m\n\u001b[0m",
      "\u001b[1;31mTypeError\u001b[0m: 'str' object does not support item assignment"
     ]
    }
   ],
   "source": [
    "# we cannot mutate the string banana\n",
    "fruit = 'banana'\n",
    "fruit[0] ='b'"
   ]
  },
  {
   "cell_type": "code",
   "execution_count": 9,
   "metadata": {
    "collapsed": false
   },
   "outputs": [
    {
     "name": "stdout",
     "output_type": "stream",
     "text": [
      "banana\n"
     ]
    }
   ],
   "source": [
    "# we need to create another variable\n",
    "x = fruit.lower()\n",
    "print x"
   ]
  },
  {
   "cell_type": "code",
   "execution_count": 13,
   "metadata": {
    "collapsed": false
   },
   "outputs": [
    {
     "name": "stdout",
     "output_type": "stream",
     "text": [
      "[2, 14, 26, 41, 63]\n",
      "[2, 14, 28, 41, 63]\n",
      "5\n"
     ]
    }
   ],
   "source": [
    "# we can mutate a list--> we change the value on the second position\n",
    "lotto = [2,14,26,41,63]\n",
    "print lotto\n",
    "lotto[2] = 28\n",
    "print lotto\n",
    "\n",
    "print len(lotto)"
   ]
  },
  {
   "cell_type": "markdown",
   "metadata": {},
   "source": [
    "# range funciton\n",
    "- creates a list with thte number of items specified"
   ]
  },
  {
   "cell_type": "code",
   "execution_count": 15,
   "metadata": {
    "collapsed": false
   },
   "outputs": [
    {
     "name": "stdout",
     "output_type": "stream",
     "text": [
      "[0, 1, 2, 3]\n",
      "[0, 1, 2]\n"
     ]
    }
   ],
   "source": [
    "print range(4)\n",
    "friends = ['Josep','Glenn','Sally']\n",
    "print range(len(friends))"
   ]
  },
  {
   "cell_type": "code",
   "execution_count": 17,
   "metadata": {
    "collapsed": false
   },
   "outputs": [
    {
     "name": "stdout",
     "output_type": "stream",
     "text": [
      "Happy New Year: Josep\n",
      "Happy New Year: Glenn\n",
      "Happy New Year: Sally\n"
     ]
    }
   ],
   "source": [
    "friends = ['Josep','Glenn','Sally']\n",
    "for i in range (len(friends)):\n",
    "    friend = friends[i]\n",
    "    print 'Happy New Year:',friend"
   ]
  },
  {
   "cell_type": "code",
   "execution_count": 19,
   "metadata": {
    "collapsed": false
   },
   "outputs": [
    {
     "name": "stdout",
     "output_type": "stream",
     "text": [
      "[1, 2, 3, 4, 5, 6]\n"
     ]
    }
   ],
   "source": [
    "# concatenate lists witha plus '+'\n",
    "a = [1,2,3]\n",
    "b = [4,5,6]\n",
    "c = a + b\n",
    "print c"
   ]
  },
  {
   "cell_type": "code",
   "execution_count": 21,
   "metadata": {
    "collapsed": false
   },
   "outputs": [
    {
     "name": "stdout",
     "output_type": "stream",
     "text": [
      "[41, 12]\n",
      "[9, 41, 12, 3]\n",
      "[3, 74, 15]\n",
      "[9, 41, 12, 3, 74, 15]\n"
     ]
    }
   ],
   "source": [
    "#slice strings\n",
    "t = [9,41,12,3,74,15]\n",
    "print t[1:3]\n",
    "print t[:4]\n",
    "print t[3:]\n",
    "print t[:]"
   ]
  },
  {
   "cell_type": "markdown",
   "metadata": {},
   "source": [
    "# list methods"
   ]
  },
  {
   "cell_type": "code",
   "execution_count": 24,
   "metadata": {
    "collapsed": false
   },
   "outputs": [
    {
     "data": {
      "text/plain": [
       "list"
      ]
     },
     "execution_count": 24,
     "metadata": {},
     "output_type": "execute_result"
    }
   ],
   "source": [
    "x = list()\n",
    "type(x)\n",
    "#dir (x)"
   ]
  },
  {
   "cell_type": "code",
   "execution_count": 26,
   "metadata": {
    "collapsed": false
   },
   "outputs": [
    {
     "name": "stdout",
     "output_type": "stream",
     "text": [
      "['book', 99]\n"
     ]
    }
   ],
   "source": [
    "#building a list from scratch\n",
    "stuff = list()\n",
    "stuff.append('book')\n",
    "stuff.append (99)\n",
    "print stuff"
   ]
  },
  {
   "cell_type": "code",
   "execution_count": 29,
   "metadata": {
    "collapsed": false
   },
   "outputs": [
    {
     "name": "stdout",
     "output_type": "stream",
     "text": [
      "['Glenn', 'Josep', 'Sally']\n"
     ]
    }
   ],
   "source": [
    "#order a list\n",
    "friends = ['Josep','Glenn','Sally']\n",
    "friends.sort()\n",
    "print friends"
   ]
  },
  {
   "cell_type": "code",
   "execution_count": 31,
   "metadata": {
    "collapsed": false
   },
   "outputs": [
    {
     "name": "stdout",
     "output_type": "stream",
     "text": [
      "6\n",
      "74\n",
      "3\n",
      "154\n",
      "25\n"
     ]
    }
   ],
   "source": [
    "#built in functions\n",
    "nums = [3,41,12,9,74,15]\n",
    "print len(nums)\n",
    "print max(nums)\n",
    "print min(nums)\n",
    "print sum(nums)\n",
    "print sum(nums)/len(nums)"
   ]
  },
  {
   "cell_type": "markdown",
   "metadata": {},
   "source": [
    "# creating a list accumulating values"
   ]
  },
  {
   "cell_type": "code",
   "execution_count": 34,
   "metadata": {
    "collapsed": false
   },
   "outputs": [
    {
     "name": "stdout",
     "output_type": "stream",
     "text": [
      "Enter a number:4\n",
      "Enter a number:done\n",
      "Average: 4.0\n",
      "[4.0]\n"
     ]
    }
   ],
   "source": [
    "numlist = list()\n",
    "while True:\n",
    "    inp = raw_input('Enter a number:')\n",
    "    if inp == 'done': break\n",
    "    value = float(inp)\n",
    "    numlist.append(value)\n",
    "\n",
    "average =sum(numlist)/len(numlist)\n",
    "print 'Average:',average\n",
    "print numlist"
   ]
  },
  {
   "cell_type": "markdown",
   "metadata": {},
   "source": [
    "# Connecting strings and lists\n",
    "- Split breaks a string into parts a produces a list of strings"
   ]
  },
  {
   "cell_type": "code",
   "execution_count": 35,
   "metadata": {
    "collapsed": false
   },
   "outputs": [
    {
     "name": "stdout",
     "output_type": "stream",
     "text": [
      "['With', 'three', 'words']\n"
     ]
    }
   ],
   "source": [
    "abc = 'With three words'\n",
    "stuff = abc.split()\n",
    "print stuff"
   ]
  },
  {
   "cell_type": "code",
   "execution_count": 36,
   "metadata": {
    "collapsed": false
   },
   "outputs": [
    {
     "name": "stdout",
     "output_type": "stream",
     "text": [
      "With\n",
      "three\n",
      "words\n"
     ]
    }
   ],
   "source": [
    "for w in stuff:\n",
    "    print w"
   ]
  },
  {
   "cell_type": "code",
   "execution_count": 38,
   "metadata": {
    "collapsed": false
   },
   "outputs": [
    {
     "name": "stdout",
     "output_type": "stream",
     "text": [
      "['A', 'lot', 'of', 'spaces']\n"
     ]
    }
   ],
   "source": [
    "# python takes many blank spaces as one\n",
    "line = 'A lot                 of spaces'\n",
    "etc = line.split()\n",
    "print etc"
   ]
  },
  {
   "cell_type": "code",
   "execution_count": 40,
   "metadata": {
    "collapsed": false
   },
   "outputs": [
    {
     "name": "stdout",
     "output_type": "stream",
     "text": [
      "['first', 'second', 'third']\n",
      "3\n"
     ]
    }
   ],
   "source": [
    "# we  need to specify the delimiter\n",
    "line = 'first;second;third'\n",
    "thing = line.split(';')\n",
    "print thing\n",
    "print len(thing)"
   ]
  },
  {
   "cell_type": "markdown",
   "metadata": {},
   "source": [
    "# Example to find the day of week of mails (mbox-short.txt)"
   ]
  },
  {
   "cell_type": "code",
   "execution_count": 53,
   "metadata": {
    "collapsed": false
   },
   "outputs": [
    {
     "name": "stdout",
     "output_type": "stream",
     "text": [
      "Sat\n"
     ]
    },
    {
     "ename": "IndexError",
     "evalue": "list index out of range",
     "output_type": "error",
     "traceback": [
      "\u001b[1;31m---------------------------------------------------------------------------\u001b[0m",
      "\u001b[1;31mIndexError\u001b[0m                                Traceback (most recent call last)",
      "\u001b[1;32m<ipython-input-53-b5fc33a2a501>\u001b[0m in \u001b[0;36m<module>\u001b[1;34m()\u001b[0m\n\u001b[0;32m      4\u001b[0m     \u001b[1;32mif\u001b[0m \u001b[1;32mnot\u001b[0m \u001b[0mline\u001b[0m\u001b[1;33m.\u001b[0m\u001b[0mstartswith\u001b[0m\u001b[1;33m(\u001b[0m\u001b[1;34m\"From\"\u001b[0m\u001b[1;33m)\u001b[0m\u001b[1;33m:\u001b[0m \u001b[1;32mcontinue\u001b[0m\u001b[1;33m\u001b[0m\u001b[0m\n\u001b[0;32m      5\u001b[0m     \u001b[0mwords\u001b[0m \u001b[1;33m=\u001b[0m \u001b[0mline\u001b[0m\u001b[1;33m.\u001b[0m\u001b[0msplit\u001b[0m\u001b[1;33m(\u001b[0m\u001b[1;33m)\u001b[0m\u001b[1;33m\u001b[0m\u001b[0m\n\u001b[1;32m----> 6\u001b[1;33m     \u001b[1;32mprint\u001b[0m \u001b[0mwords\u001b[0m\u001b[1;33m[\u001b[0m\u001b[1;36m2\u001b[0m\u001b[1;33m]\u001b[0m\u001b[1;33m\u001b[0m\u001b[0m\n\u001b[0m",
      "\u001b[1;31mIndexError\u001b[0m: list index out of range"
     ]
    }
   ],
   "source": [
    "fhand = open('mbox-short.txt')\n",
    "for line in fhand:\n",
    "    line = line.rstrip()\n",
    "    if not line.startswith(\"From\"): continue\n",
    "    words = line.split()\n",
    "    print words[2]"
   ]
  },
  {
   "cell_type": "markdown",
   "metadata": {},
   "source": [
    "# split after the @  --> double split pattern"
   ]
  },
  {
   "cell_type": "code",
   "execution_count": 55,
   "metadata": {
    "collapsed": false
   },
   "outputs": [
    {
     "name": "stdout",
     "output_type": "stream",
     "text": [
      "uct.ac.za\n",
      "media.berkeley.edu\n",
      "umich.edu\n",
      "iupui.edu\n",
      "umich.edu\n",
      "iupui.edu\n",
      "iupui.edu\n",
      "iupui.edu\n",
      "umich.edu\n",
      "umich.edu\n",
      "umich.edu\n",
      "umich.edu\n",
      "iupui.edu\n",
      "umich.edu\n",
      "caret.cam.ac.uk\n",
      "gmail.com\n",
      "uct.ac.za\n",
      "uct.ac.za\n",
      "uct.ac.za\n",
      "uct.ac.za\n",
      "uct.ac.za\n",
      "media.berkeley.edu\n",
      "media.berkeley.edu\n",
      "media.berkeley.edu\n",
      "iupui.edu\n",
      "iupui.edu\n",
      "iupui.edu\n"
     ]
    }
   ],
   "source": [
    "fhand = open('mbox-short.txt')\n",
    "for line in fhand:\n",
    "    line = line.rstrip()\n",
    "    if not line.startswith(\"From\"): continue\n",
    "    words = line.split()\n",
    "    email = words[1]\n",
    "    pieces = email.split('@')\n",
    "    print pieces[1]"
   ]
  },
  {
   "cell_type": "markdown",
   "metadata": {},
   "source": [
    "# ASSIGNMENT 8.4\n",
    "\n",
    "- OUTPUT A SORTED LIST OF UNIQUE WORDS FROM THE FILE"
   ]
  },
  {
   "cell_type": "code",
   "execution_count": 41,
   "metadata": {
    "collapsed": false
   },
   "outputs": [
    {
     "name": "stdout",
     "output_type": "stream",
     "text": [
      "['Arise', 'But', 'It', 'Juliet', 'Who', 'already', 'and', 'breaks', 'east', 'envious', 'fair', 'grief', 'is', 'kill', 'light', 'moon', 'pale', 'sick', 'soft', 'sun', 'the', 'through', 'what', 'window', 'with', 'yonder']\n"
     ]
    }
   ],
   "source": [
    "fh = open('romeo.txt')\n",
    "# fh.read() can also be used\n",
    "lst = list()\n",
    "dupli = []\n",
    "for line in fh:\n",
    "    #line = line.rstrip()\n",
    "    words = line.split()\n",
    "    for word in words:\n",
    "        if word not in lst:\n",
    "            lst.append(word)\n",
    "    lst.sort()\n",
    "print lst"
   ]
  },
  {
   "cell_type": "markdown",
   "metadata": {},
   "source": [
    "# ASSIGNMENT 8.5\n",
    "\n",
    "- EXTRACT AND COUNT THE SECOND WORD OF THE LINES THAT START WITH FROM"
   ]
  },
  {
   "cell_type": "code",
   "execution_count": 56,
   "metadata": {
    "collapsed": false
   },
   "outputs": [
    {
     "name": "stdout",
     "output_type": "stream",
     "text": [
      "stephen.marquard@uct.ac.za\n",
      "louis@media.berkeley.edu\n",
      "zqian@umich.edu\n",
      "rjlowe@iupui.edu\n",
      "zqian@umich.edu\n",
      "rjlowe@iupui.edu\n",
      "cwen@iupui.edu\n",
      "cwen@iupui.edu\n",
      "gsilver@umich.edu\n",
      "gsilver@umich.edu\n",
      "zqian@umich.edu\n",
      "gsilver@umich.edu\n",
      "wagnermr@iupui.edu\n",
      "zqian@umich.edu\n",
      "antranig@caret.cam.ac.uk\n",
      "gopal.ramasammycook@gmail.com\n",
      "david.horwitz@uct.ac.za\n",
      "david.horwitz@uct.ac.za\n",
      "david.horwitz@uct.ac.za\n",
      "david.horwitz@uct.ac.za\n",
      "stephen.marquard@uct.ac.za\n",
      "louis@media.berkeley.edu\n",
      "louis@media.berkeley.edu\n",
      "ray@media.berkeley.edu\n",
      "cwen@iupui.edu\n",
      "cwen@iupui.edu\n",
      "cwen@iupui.edu\n",
      "There were 27 lines in the file with From as the first word\n"
     ]
    }
   ],
   "source": [
    "fh = open('mbox-short.txt')\n",
    "count = 0\n",
    "for line in fh:\n",
    "    #line = line.rstrip()\n",
    "    if not line.startswith(\"From \"): continue\n",
    "    words = line.split()\n",
    "    email = words[1]\n",
    "    count = count + 1\n",
    "    print email\n",
    "print \"There were\", count, \"lines in the file with From as the first word\""
   ]
  },
  {
   "cell_type": "code",
   "execution_count": null,
   "metadata": {
    "collapsed": true
   },
   "outputs": [],
   "source": []
  }
 ],
 "metadata": {
  "kernelspec": {
   "display_name": "Python 2",
   "language": "python",
   "name": "python2"
  },
  "language_info": {
   "codemirror_mode": {
    "name": "ipython",
    "version": 2
   },
   "file_extension": ".py",
   "mimetype": "text/x-python",
   "name": "python",
   "nbconvert_exporter": "python",
   "pygments_lexer": "ipython2",
   "version": "2.7.11+"
  }
 },
 "nbformat": 4,
 "nbformat_minor": 0
}
