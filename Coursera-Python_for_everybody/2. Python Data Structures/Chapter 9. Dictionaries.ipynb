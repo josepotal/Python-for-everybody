{
 "cells": [
  {
   "cell_type": "markdown",
   "metadata": {},
   "source": [
    "- dictionaries are a bag of values with its own label\n",
    "- key is the label\n",
    "- value is the thing\n",
    "- it does not maintainthe order of entries"
   ]
  },
  {
   "cell_type": "code",
   "execution_count": 4,
   "metadata": {
    "collapsed": false
   },
   "outputs": [
    {
     "name": "stdout",
     "output_type": "stream",
     "text": [
      "{'money': 12, 'tissues': 75, 'candy': 3}\n",
      "12\n",
      "{'money': 12, 'tissues': 75, 'candy': 6}\n"
     ]
    }
   ],
   "source": [
    "purse = dict()\n",
    "purse['money'] = 12\n",
    "purse ['candy'] = 3\n",
    "purse ['tissues'] =75\n",
    "print purse\n",
    "print purse['money']\n",
    "purse['candy'] = purse['candy'] + 3\n",
    "print purse"
   ]
  },
  {
   "cell_type": "markdown",
   "metadata": {},
   "source": [
    "### dictionaries literals"
   ]
  },
  {
   "cell_type": "code",
   "execution_count": 12,
   "metadata": {
    "collapsed": false
   },
   "outputs": [
    {
     "name": "stdout",
     "output_type": "stream",
     "text": [
      "{'john': 100, 'chuck': 1, 'fred': 42}\n"
     ]
    }
   ],
   "source": [
    "jjj ={'chuck':1,'fred':42, 'john':100}\n",
    "print jjj # it does not maintain the order"
   ]
  },
  {
   "cell_type": "markdown",
   "metadata": {},
   "source": [
    "### counters for a list of names"
   ]
  },
  {
   "cell_type": "code",
   "execution_count": 15,
   "metadata": {
    "collapsed": false
   },
   "outputs": [
    {
     "name": "stdout",
     "output_type": "stream",
     "text": [
      "{'zqian': 2, 'csev': 1, 'cwen': 2, 'swen': 1}\n"
     ]
    }
   ],
   "source": [
    "counts = dict()\n",
    "names =['csev','swen','cwen','zqian','cwen','zqian']\n",
    "for name in names:\n",
    "    if name not in counts:\n",
    "        counts[name] = 1\n",
    "    else:\n",
    "        counts[name] = counts[name] + 1\n",
    "print counts\n"
   ]
  },
  {
   "cell_type": "markdown",
   "metadata": {},
   "source": [
    "### the get method"
   ]
  },
  {
   "cell_type": "code",
   "execution_count": 20,
   "metadata": {
    "collapsed": false
   },
   "outputs": [
    {
     "name": "stdout",
     "output_type": "stream",
     "text": [
      "{'zqian': 2, 'csev': 1, 'cwen': 2, 'swen': 1}\n"
     ]
    }
   ],
   "source": [
    "counts = dict()\n",
    "names =['csev','swen','cwen','zqian','cwen','zqian']\n",
    "for name in names:\n",
    "    counts[name] = counts.get(name,0) +1    # it is and \"idiom\" the 0 is the default value substitutes the four lines of code from above\n",
    "print counts\n"
   ]
  },
  {
   "cell_type": "markdown",
   "metadata": {},
   "source": [
    "### counting patterns"
   ]
  },
  {
   "cell_type": "code",
   "execution_count": 24,
   "metadata": {
    "collapsed": false
   },
   "outputs": [
    {
     "name": "stdout",
     "output_type": "stream",
     "text": [
      "Enter a line of text:\n",
      "it is and \"idiom\" the 0 is the default value substitutes the four lines of code from above\n",
      "Words: ['it', 'is', 'and', '\"idiom\"', 'the', '0', 'is', 'the', 'default', 'value', 'substitutes', 'the', 'four', 'lines', 'of', 'code', 'from', 'above']\n",
      "{'and': 1, 'code': 1, 'substitutes': 1, 'default': 1, 'of': 1, 'is': 2, 'lines': 1, 'it': 1, 'value': 1, 'four': 1, '0': 1, 'above': 1, '\"idiom\"': 1, 'from': 1, 'the': 3}\n"
     ]
    }
   ],
   "source": [
    "counts = dict()\n",
    "print \"Enter a line of text:\"\n",
    "line = raw_input('')\n",
    "\n",
    "words = line.split()\n",
    "print 'Words:',words\n",
    "\n",
    "for word in words:\n",
    "    counts[word] = counts.get(word,0) + 1\n",
    "\n",
    "print counts"
   ]
  },
  {
   "cell_type": "markdown",
   "metadata": {},
   "source": [
    "### for loops and dictionaries"
   ]
  },
  {
   "cell_type": "code",
   "execution_count": 42,
   "metadata": {
    "collapsed": false
   },
   "outputs": [
    {
     "name": "stdout",
     "output_type": "stream",
     "text": [
      "john 100\n",
      "chuck 1\n",
      "fred 42\n"
     ]
    }
   ],
   "source": [
    "counts ={'chuck':1,'fred':42, 'john':100}\n",
    "for y in counts:\n",
    "    print y,counts[y]"
   ]
  },
  {
   "cell_type": "markdown",
   "metadata": {},
   "source": [
    "### convert dicts into lists"
   ]
  },
  {
   "cell_type": "code",
   "execution_count": 33,
   "metadata": {
    "collapsed": false
   },
   "outputs": [
    {
     "name": "stdout",
     "output_type": "stream",
     "text": [
      "['john', 'chuck', 'fred']\n",
      "['john', 'chuck', 'fred']\n",
      "[100, 1, 42]\n",
      "[('john', 100), ('chuck', 1), ('fred', 42)]\n"
     ]
    }
   ],
   "source": [
    "jjj ={'chuck':1,'fred':42, 'john':100}\n",
    "print list(jjj)\n",
    "print jjj.keys()\n",
    "print jjj.values()\n",
    "print jjj.items()   ## it returns a tuple, which is a key-value pair"
   ]
  },
  {
   "cell_type": "markdown",
   "metadata": {},
   "source": [
    "### two iteration variables"
   ]
  },
  {
   "cell_type": "code",
   "execution_count": 37,
   "metadata": {
    "collapsed": false
   },
   "outputs": [
    {
     "name": "stdout",
     "output_type": "stream",
     "text": [
      "john 100\n",
      "chuck 1\n",
      "fred 42\n"
     ]
    }
   ],
   "source": [
    "jjj ={'chuck':1,'fred':42, 'john':100}\n",
    "for aaa,bbb in jjj.items():\n",
    "    print aaa,bbb"
   ]
  },
  {
   "cell_type": "markdown",
   "metadata": {},
   "source": [
    "# count the most common word in a file"
   ]
  },
  {
   "cell_type": "code",
   "execution_count": 1,
   "metadata": {
    "collapsed": false
   },
   "outputs": [
    {
     "name": "stdout",
     "output_type": "stream",
     "text": [
      "Enter file:\n"
     ]
    },
    {
     "ename": "IOError",
     "evalue": "[Errno 2] No such file or directory: ''",
     "output_type": "error",
     "traceback": [
      "\u001b[1;31m---------------------------------------------------------------------------\u001b[0m",
      "\u001b[1;31mIOError\u001b[0m                                   Traceback (most recent call last)",
      "\u001b[1;32m<ipython-input-1-21ef37fd0962>\u001b[0m in \u001b[0;36m<module>\u001b[1;34m()\u001b[0m\n\u001b[0;32m      1\u001b[0m \u001b[0mname\u001b[0m \u001b[1;33m=\u001b[0m \u001b[0mraw_input\u001b[0m\u001b[1;33m(\u001b[0m\u001b[1;34m\"Enter file:\"\u001b[0m\u001b[1;33m)\u001b[0m\u001b[1;33m\u001b[0m\u001b[0m\n\u001b[1;32m----> 2\u001b[1;33m \u001b[0mhandle\u001b[0m \u001b[1;33m=\u001b[0m \u001b[0mopen\u001b[0m\u001b[1;33m(\u001b[0m\u001b[0mname\u001b[0m\u001b[1;33m,\u001b[0m\u001b[1;34m'r'\u001b[0m\u001b[1;33m)\u001b[0m\u001b[1;33m\u001b[0m\u001b[0m\n\u001b[0m\u001b[0;32m      3\u001b[0m \u001b[0mtext\u001b[0m \u001b[1;33m=\u001b[0m \u001b[0mhandle\u001b[0m\u001b[1;33m.\u001b[0m\u001b[0mread\u001b[0m\u001b[1;33m(\u001b[0m\u001b[1;33m)\u001b[0m\u001b[1;33m\u001b[0m\u001b[0m\n\u001b[0;32m      4\u001b[0m \u001b[0mwords\u001b[0m \u001b[1;33m=\u001b[0m \u001b[0mtext\u001b[0m\u001b[1;33m.\u001b[0m\u001b[0msplit\u001b[0m\u001b[1;33m(\u001b[0m\u001b[1;33m)\u001b[0m\u001b[1;33m\u001b[0m\u001b[0m\n\u001b[0;32m      5\u001b[0m \u001b[1;33m\u001b[0m\u001b[0m\n",
      "\u001b[1;31mIOError\u001b[0m: [Errno 2] No such file or directory: ''"
     ]
    }
   ],
   "source": [
    "name = raw_input(\"Enter file:\")\n",
    "handle = open(name,'r')\n",
    "text = handle.read()\n",
    "words = text.split()\n",
    "\n",
    "counts = dict()\n",
    "for word in words:\n",
    "    counts[word] = counts.get(word,0) + 1\n",
    "\n",
    "bigcount = None\n",
    "bigword = None\n",
    "for word,count in counts.items():\n",
    "    if bigword is None or count > bigcount:\n",
    "        bigword = word  # is the key of the counts\n",
    "        bigcount = count # is the value of the counts\n",
    "\n",
    "print counts\n",
    "print bigword, bigcount"
   ]
  },
  {
   "cell_type": "code",
   "execution_count": 2,
   "metadata": {
    "collapsed": true
   },
   "outputs": [],
   "source": [
    "### ASSIGNMENT 8.5"
   ]
  },
  {
   "cell_type": "code",
   "execution_count": 12,
   "metadata": {
    "collapsed": false
   },
   "outputs": [
    {
     "name": "stdout",
     "output_type": "stream",
     "text": [
      "['stephen.marquard@uct.ac.za', 'louis@media.berkeley.edu', 'zqian@umich.edu', 'rjlowe@iupui.edu', 'zqian@umich.edu', 'rjlowe@iupui.edu', 'cwen@iupui.edu', 'cwen@iupui.edu', 'gsilver@umich.edu', 'gsilver@umich.edu', 'zqian@umich.edu', 'gsilver@umich.edu', 'wagnermr@iupui.edu', 'zqian@umich.edu', 'antranig@caret.cam.ac.uk', 'gopal.ramasammycook@gmail.com', 'david.horwitz@uct.ac.za', 'david.horwitz@uct.ac.za', 'david.horwitz@uct.ac.za', 'david.horwitz@uct.ac.za', 'stephen.marquard@uct.ac.za', 'louis@media.berkeley.edu', 'louis@media.berkeley.edu', 'ray@media.berkeley.edu', 'cwen@iupui.edu', 'cwen@iupui.edu', 'cwen@iupui.edu']\n",
      "{'gopal.ramasammycook@gmail.com': 1, 'louis@media.berkeley.edu': 3, 'cwen@iupui.edu': 5, 'antranig@caret.cam.ac.uk': 1, 'rjlowe@iupui.edu': 2, 'gsilver@umich.edu': 3, 'david.horwitz@uct.ac.za': 4, 'wagnermr@iupui.edu': 1, 'zqian@umich.edu': 4, 'stephen.marquard@uct.ac.za': 2, 'ray@media.berkeley.edu': 1}\n",
      "cwen@iupui.edu 5\n"
     ]
    }
   ],
   "source": [
    "handle = open('mbox-short.txt')\n",
    "lst = list()\n",
    "for line in handle:\n",
    "    if not line.startswith(\"From \"): continue\n",
    "    words = line.split()\n",
    "    email = words[1]\n",
    "    lst.append(email)\n",
    "print lst        \n",
    "\n",
    "counts = dict()\n",
    "for word in lst:\n",
    "    counts[word] = counts.get(word,0) + 1\n",
    "print counts\n",
    "\n",
    "bigcount = None\n",
    "bigemail = None\n",
    "for email,count in counts.items():\n",
    "    if email is None or count > bigcount:\n",
    "        bigemail = email\n",
    "        bigcount= count\n",
    "\n",
    "print bigemail,bigcount\n"
   ]
  }
 ],
 "metadata": {
  "kernelspec": {
   "display_name": "Python 2",
   "language": "python",
   "name": "python2"
  },
  "language_info": {
   "codemirror_mode": {
    "name": "ipython",
    "version": 2
   },
   "file_extension": ".py",
   "mimetype": "text/x-python",
   "name": "python",
   "nbconvert_exporter": "python",
   "pygments_lexer": "ipython2",
   "version": "2.7.11+"
  }
 },
 "nbformat": 4,
 "nbformat_minor": 0
}
