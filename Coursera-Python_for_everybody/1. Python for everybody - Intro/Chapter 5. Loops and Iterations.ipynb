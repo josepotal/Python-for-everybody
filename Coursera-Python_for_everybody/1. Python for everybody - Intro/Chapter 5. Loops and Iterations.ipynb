{
 "cells": [
  {
   "cell_type": "markdown",
   "metadata": {},
   "source": [
    "# WHILE LOOPS"
   ]
  },
  {
   "cell_type": "code",
   "execution_count": 2,
   "metadata": {
    "collapsed": false
   },
   "outputs": [
    {
     "name": "stdout",
     "output_type": "stream",
     "text": [
      "5\n",
      "4\n",
      "3\n",
      "2\n",
      "1\n",
      "it's over\n"
     ]
    }
   ],
   "source": [
    "n = 5\n",
    "while n > 0:\n",
    "    print n\n",
    "    n = n - 1\n",
    "print \"it's over\""
   ]
  },
  {
   "cell_type": "code",
   "execution_count": 3,
   "metadata": {
    "collapsed": false
   },
   "outputs": [
    {
     "name": "stdout",
     "output_type": "stream",
     "text": [
      ">Hello there\n",
      "Hello there\n",
      ">finished\n",
      "finished\n",
      ">done\n",
      "Done\n"
     ]
    }
   ],
   "source": [
    "while True:\n",
    "    line = raw_input('>')\n",
    "    if line == 'done':\n",
    "        break\n",
    "    print line\n",
    "print 'Done'"
   ]
  },
  {
   "cell_type": "code",
   "execution_count": 4,
   "metadata": {
    "collapsed": false
   },
   "outputs": [
    {
     "name": "stdout",
     "output_type": "stream",
     "text": [
      ">hello there\n",
      "hello there\n",
      ">#dont print this\n",
      ">done\n",
      "Done\n"
     ]
    }
   ],
   "source": [
    "while True:\n",
    "    line = raw_input('>')\n",
    "    if line [0] == '#':\n",
    "        continue\n",
    "    if line == 'done':\n",
    "        break\n",
    "    print line\n",
    "print 'Done'"
   ]
  },
  {
   "cell_type": "markdown",
   "metadata": {},
   "source": [
    "# FOR LOOPS"
   ]
  },
  {
   "cell_type": "code",
   "execution_count": 6,
   "metadata": {
    "collapsed": false
   },
   "outputs": [
    {
     "name": "stdout",
     "output_type": "stream",
     "text": [
      "1\n",
      "2\n",
      "3\n",
      "4\n",
      "5\n",
      "Jamon\n"
     ]
    }
   ],
   "source": [
    "for i in [1,2,3,4,5]:\n",
    "    print i\n",
    "print 'Jamon'"
   ]
  },
  {
   "cell_type": "code",
   "execution_count": 7,
   "metadata": {
    "collapsed": false
   },
   "outputs": [
    {
     "name": "stdout",
     "output_type": "stream",
     "text": [
      "Happy New Year Joseph\n",
      "Happy New Year Glen\n",
      "Happy New Year Sally\n",
      "Done\n"
     ]
    }
   ],
   "source": [
    "friends = ['Joseph', 'Glen','Sally']\n",
    "\n",
    "for friend in friends:\n",
    "    print 'Happy New Year', friend\n",
    "print 'Done'"
   ]
  },
  {
   "cell_type": "markdown",
   "metadata": {},
   "source": [
    "# LOOP IDIOMS"
   ]
  },
  {
   "cell_type": "code",
   "execution_count": 10,
   "metadata": {
    "collapsed": false
   },
   "outputs": [
    {
     "name": "stdout",
     "output_type": "stream",
     "text": [
      "Before 0\n",
      "9 9\n",
      "50 41\n",
      "124 74\n",
      "189 65\n",
      "192 3\n",
      "After 192\n"
     ]
    }
   ],
   "source": [
    "count = 0\n",
    "print 'Before',count\n",
    "for thing in [9,41,74,65,3]:\n",
    "    count = count + thing\n",
    "    print count, thing\n",
    "print 'After', count"
   ]
  },
  {
   "cell_type": "code",
   "execution_count": 11,
   "metadata": {
    "collapsed": false
   },
   "outputs": [
    {
     "name": "stdout",
     "output_type": "stream",
     "text": [
      "Before\n",
      "Large Value 41\n",
      "Large Value 74\n",
      "After\n"
     ]
    }
   ],
   "source": [
    "print 'Before'\n",
    "for value in [9,41,12,3,74,15]:\n",
    "    if value > 20:\n",
    "        print 'Large Value', value\n",
    "print 'After'"
   ]
  },
  {
   "cell_type": "code",
   "execution_count": 12,
   "metadata": {
    "collapsed": false
   },
   "outputs": [
    {
     "name": "stdout",
     "output_type": "stream",
     "text": [
      "Before\n",
      "9 9\n",
      "9 41\n",
      "9 12\n",
      "3 3\n",
      "3 74\n",
      "3 15\n",
      "After 3\n"
     ]
    }
   ],
   "source": [
    "smallest = None\n",
    "print 'Before'\n",
    "for value in [9,41,12,3,74,15]:\n",
    "    if smallest is None:\n",
    "        smallest = value\n",
    "    elif value < smallest:\n",
    "        smallest = value\n",
    "    print smallest, value\n",
    "print 'After', smallest"
   ]
  },
  {
   "cell_type": "markdown",
   "metadata": {},
   "source": [
    "# Assigment Chapter 5"
   ]
  },
  {
   "cell_type": "code",
   "execution_count": 1,
   "metadata": {
    "collapsed": false
   },
   "outputs": [
    {
     "name": "stdout",
     "output_type": "stream",
     "text": [
      "Enter a number:4\n",
      "Enter a number:5\n",
      "Enter a number:bad\n",
      "Invalid input\n",
      "Enter a number:7\n",
      "Enter a number:done\n",
      "Maximum is 7\n",
      "Minimum is 4\n"
     ]
    }
   ],
   "source": [
    "largest = None\n",
    "smallest = None\n",
    "\n",
    "while True:\n",
    "    num = raw_input('Enter a number:')\n",
    "    # handle edge cases\n",
    "    if num == 'done': \n",
    "        break;\n",
    "    #do the work\n",
    "    try:\n",
    "        n = int(num)\n",
    "        largest = num if num > largest or largest == None else largest\n",
    "        smallest = num if num < smallest or smallest == None else smallest\n",
    "    except:\n",
    "        print 'Invalid input'\n",
    "        \n",
    "print \"Maximum is\", largest\n",
    "print \"Minimum is\" , smallest"
   ]
  },
  {
   "cell_type": "code",
   "execution_count": 27,
   "metadata": {
    "collapsed": false
   },
   "outputs": [
    {
     "name": "stdout",
     "output_type": "stream",
     "text": [
      "Enter a number:4\n",
      "Enter a number:5\n",
      "Enter a number:bad data\n",
      "Invalid input\n",
      "Enter a number:7\n",
      "Enter a number:done\n",
      "Maximum is 7\n",
      "Minimum is 4\n"
     ]
    }
   ],
   "source": [
    "largest = None\n",
    "smallest = None\n",
    "\n",
    "while True:\n",
    "    num = raw_input('Enter a number:')\n",
    "    # handle edge cases\n",
    "    if num == 'done': \n",
    "        break;\n",
    "    #do the work\n",
    "    try:\n",
    "        n = int(num)\n",
    "        if num > largest or largest == None:\n",
    "            largest = num \n",
    "        else:\n",
    "            largest\n",
    "        if num < smallest or smallest is None:\n",
    "            smallest = num \n",
    "        else:\n",
    "            smallest\n",
    "    except:\n",
    "        print 'Invalid input'\n",
    "        continue\n",
    "print \"Maximum is\", largest\n",
    "print \"Minimum is\" , smallest"
   ]
  }
 ],
 "metadata": {
  "kernelspec": {
   "display_name": "Python 2",
   "language": "python",
   "name": "python2"
  },
  "language_info": {
   "codemirror_mode": {
    "name": "ipython",
    "version": 2
   },
   "file_extension": ".py",
   "mimetype": "text/x-python",
   "name": "python",
   "nbconvert_exporter": "python",
   "pygments_lexer": "ipython2",
   "version": "2.7.11+"
  }
 },
 "nbformat": 4,
 "nbformat_minor": 0
}
