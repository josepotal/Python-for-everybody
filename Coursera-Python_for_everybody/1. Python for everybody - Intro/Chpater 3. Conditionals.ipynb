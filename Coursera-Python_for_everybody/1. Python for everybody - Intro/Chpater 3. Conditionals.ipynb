{
 "cells": [
  {
   "cell_type": "markdown",
   "metadata": {},
   "source": [
    "# Lecture 3.2 --> Examples conditionals"
   ]
  },
  {
   "cell_type": "code",
   "execution_count": 3,
   "metadata": {
    "collapsed": false
   },
   "outputs": [
    {
     "name": "stdout",
     "output_type": "stream",
     "text": [
      "More than one\n"
     ]
    }
   ],
   "source": [
    "x = 42\n",
    "if x > 1:\n",
    "    print 'More than one'\n",
    "else:\n",
    "    print 'Less than one'"
   ]
  },
  {
   "cell_type": "code",
   "execution_count": 4,
   "metadata": {
    "collapsed": false
   },
   "outputs": [
    {
     "name": "stdout",
     "output_type": "stream",
     "text": [
      "Bigger\n",
      "All Done\n"
     ]
    }
   ],
   "source": [
    "x = 4\n",
    "\n",
    "if x > 2:\n",
    "    print 'Bigger'\n",
    "else:\n",
    "    print 'Smaller'\n",
    "    \n",
    "print 'All Done'"
   ]
  },
  {
   "cell_type": "code",
   "execution_count": 9,
   "metadata": {
    "collapsed": false
   },
   "outputs": [
    {
     "name": "stdout",
     "output_type": "stream",
     "text": [
      "Large\n",
      "All done\n"
     ]
    }
   ],
   "source": [
    "x = 20\n",
    "if x < 2:\n",
    "    print 'Small'\n",
    "elif x < 10:\n",
    "    print 'Medium'\n",
    "else:\n",
    "    print 'Large'\n",
    "print 'All done'"
   ]
  },
  {
   "cell_type": "markdown",
   "metadata": {},
   "source": [
    "# Lecture 3.3. --> Try and Except"
   ]
  },
  {
   "cell_type": "code",
   "execution_count": 11,
   "metadata": {
    "collapsed": false
   },
   "outputs": [
    {
     "name": "stdout",
     "output_type": "stream",
     "text": [
      "Hello\n",
      "Done -1\n"
     ]
    }
   ],
   "source": [
    "ast = 'Bob'\n",
    "try:\n",
    "    print 'Hello'\n",
    "    ist = int(ast)  # the code does not work it will throw and traceback\n",
    "    print 'There'\n",
    "except:\n",
    "    ist = -1   # as the code does not work it prints -1 ( it is a safetynet if there are errors on the code)\n",
    "\n",
    "print 'Done', ist"
   ]
  },
  {
   "cell_type": "code",
   "execution_count": 14,
   "metadata": {
    "collapsed": false
   },
   "outputs": [
    {
     "name": "stdout",
     "output_type": "stream",
     "text": [
      "Enter a number:-87\n",
      "Not a number\n"
     ]
    }
   ],
   "source": [
    "rawstr = raw_input('Enter a number:')\n",
    "\n",
    "try:\n",
    "    ival = int(rawstr)\n",
    "except:\n",
    "    ival = -1\n",
    "\n",
    "if ival > 0:\n",
    "    print 'Good job'\n",
    "else:\n",
    "    print 'Not a number'"
   ]
  },
  {
   "cell_type": "code",
   "execution_count": null,
   "metadata": {
    "collapsed": true
   },
   "outputs": [],
   "source": [
    "#Assignment Ch"
   ]
  },
  {
   "cell_type": "code",
   "execution_count": null,
   "metadata": {
    "collapsed": true
   },
   "outputs": [],
   "source": []
  }
 ],
 "metadata": {
  "kernelspec": {
   "display_name": "Python 2",
   "language": "python",
   "name": "python2"
  },
  "language_info": {
   "codemirror_mode": {
    "name": "ipython",
    "version": 2
   },
   "file_extension": ".py",
   "mimetype": "text/x-python",
   "name": "python",
   "nbconvert_exporter": "python",
   "pygments_lexer": "ipython2",
   "version": "2.7.11+"
  }
 },
 "nbformat": 4,
 "nbformat_minor": 0
}
