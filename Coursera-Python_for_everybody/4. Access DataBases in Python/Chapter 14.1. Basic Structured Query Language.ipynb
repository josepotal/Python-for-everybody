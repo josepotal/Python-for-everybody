{
 "cells": [
  {
   "cell_type": "markdown",
   "metadata": {},
   "source": [
    "## SQL basics\n",
    "\n",
    "\n",
    "Vocabulary:\n",
    "- Database: contains many tables\n",
    "- Relaitons or tables: contains tuples and attributes\n",
    "- Attribute or column: one of possible elements of data corresponding to the object\n",
    "- Tuple or rows: set of fields that represent and object\n",
    "\n",
    "\n",
    "### Schema of the Database\n",
    " - is the rules applied to the DB. The titles and the content(strings, integers...)\n",
    " - Data base model is the structure or format of a DB (a contract about the shape)\n",
    " \n",
    "## SQL- structured query language\n",
    "- we talk to the DB using the SQL syntax\n",
    "\n",
    "### BAsic functions SQL:\n",
    "- create table\n",
    "- retrieve data\n",
    "- Update table\n",
    "- Insert table\n",
    "- Delete table\n",
    "..."
   ]
  },
  {
   "cell_type": "markdown",
   "metadata": {},
   "source": [
    "# Using DataBases\n",
    "### common DB systems\n",
    " - Oracle, userd for entreprises\n",
    " - MySql, for webs\n",
    " - Sql server, is microsoft\n",
    " - HSQL, SQLite, Postgres....\n",
    " \n",
    " - SQLite is an embedded DB, is small and build it intothe application. Python has it!!!"
   ]
  },
  {
   "cell_type": "markdown",
   "metadata": {},
   "source": [
    "# Single Table CRUD\n",
    "- SQLitebrowser consults the DB SQLite DB\n",
    "- open SQLite by typing in the command line  sqlitebrowser\n",
    "\n",
    "1.- create a new database, select the folder to save it. We called sql1 saved in Dropbox/UsingDB with python\n",
    "2.- Execute sql tab\n",
    "   - Create a table: \n",
    "       \"\"\"CREATE TABLE User( name VARCHAR(128), email VARCHAR(128))\"\"\"\n",
    "    This is our contract the table will have 2 attributes, tha will have as max 128 characters. So our data returns fast\n",
    "   \n",
    "   - Insert statement\n",
    "    \"\"\"INSERT INTO Users(name,email) VALUES ('Kristin','kf@umich.edu')\"\"\"\n",
    "    \n",
    "    - Delete Statement\n",
    "    \"\"\"DELETE FROM Users WHERE email = 'fred@a.com'\"\"\"\n",
    "    \n",
    "    - Update\n",
    "    \"\"\"UPDATE Users SET name ='Pep' WHERE email = 'c@aw.com'\"\"\"\n",
    "    \n",
    "   - Retrive\n",
    "   \"\"\" SELECT * FROM Users WHERE name ='Pep'\n",
    "   SELECT *FROM Users ORDER BY email"
   ]
  },
  {
   "cell_type": "markdown",
   "metadata": {},
   "source": [
    "# EXAMPLE: COUNTING EMAILS (emaildb.py file)"
   ]
  },
  {
   "cell_type": "code",
   "execution_count": 4,
   "metadata": {
    "collapsed": false
   },
   "outputs": [
    {
     "name": "stdout",
     "output_type": "stream",
     "text": [
      "Enter file name: mbox.txt\n",
      "\n",
      "Counts:\n",
      "zqian@umich.edu 195\n",
      "mmmay@indiana.edu 161\n",
      "cwen@iupui.edu 158\n",
      "chmaurer@iupui.edu 111\n",
      "aaronz@vt.edu 110\n",
      "ian@caret.cam.ac.uk 96\n",
      "jimeng@umich.edu 93\n",
      "rjlowe@iupui.edu 90\n",
      "dlhaines@umich.edu 84\n",
      "david.horwitz@uct.ac.za 67\n"
     ]
    }
   ],
   "source": [
    "\n",
    "## put the output into a DataBase, so we are putting it out of the memorybase\n",
    "# tutorial; www.tutorialspoint.com/sqlite/sqlite_python.htm\n",
    "import sqlite3      # imports the library that is talking to the SQL DB\n",
    "\n",
    "conn = sqlite3.connect('emaildb.sqlite')  #it says we're going to store the data into a file called 'emaild.sqlite' \n",
    "cur = conn.cursor()   # cur is our object, created to talk with commands to the DB\n",
    "\n",
    "cur.execute('''\n",
    "DROP TABLE IF EXISTS Counts''')         ### cur.execute executes the SQL statement. To remove the table, start from 0\n",
    "\n",
    "cur.execute('''\n",
    "CREATE TABLE Counts (email TEXT, count INTEGER)''') ## cur.execute executes the SQL statement\n",
    "\n",
    "fname = raw_input('Enter file name: ')\n",
    "if ( len(fname) < 1 ) : fname = 'mbox-short.txt'\n",
    "fh = open(fname)\n",
    "for line in fh:\n",
    "    if not line.startswith('From: ') : continue\n",
    "    pieces = line.split()\n",
    "    email = pieces[1] # is the place where the email is\n",
    "    cur.execute('SELECT count FROM Counts WHERE email = ? ', (email, ))  \n",
    "                            # '?' is a placeholder for the email, we leave the blank space as it should be a tuple\n",
    "    row = cur.fetchone()    # fetches next row of a query result set  returning a single sequence\n",
    "    if row is None:\n",
    "        cur.execute('''INSERT INTO Counts (email, count) \n",
    "                VALUES ( ?, 1 )''', ( email, ) )\n",
    "    else : \n",
    "        cur.execute('UPDATE Counts SET count=count+1 WHERE email = ?', \n",
    "            (email, ))\n",
    "    conn.commit()   # the commit makes the changes visible into the DB\n",
    "\n",
    "# https://www.sqlite.org/lang_select.html\n",
    "sqlstr = 'SELECT email, count FROM Counts ORDER BY count DESC LIMIT 10'\n",
    "\n",
    "print\n",
    "print \"Counts:\"\n",
    "for row in cur.execute(sqlstr) :\n",
    "    print str(row[0]), row[1]\n",
    "\n",
    "cur.close()\n"
   ]
  },
  {
   "cell_type": "markdown",
   "metadata": {},
   "source": [
    "# ASSIGNMENT: COUNTING ORGANIZATIONS"
   ]
  },
  {
   "cell_type": "code",
   "execution_count": 17,
   "metadata": {
    "collapsed": false
   },
   "outputs": [
    {
     "name": "stdout",
     "output_type": "stream",
     "text": [
      "Enter file name: mbox.txt\n",
      "iupui.edu 536\n",
      "umich.edu 491\n",
      "indiana.edu 178\n",
      "caret.cam.ac.uk 157\n",
      "vt.edu 110\n",
      "uct.ac.za 96\n",
      "media.berkeley.edu 56\n",
      "ufp.pt 28\n",
      "gmail.com 25\n",
      "et.gatech.edu 17\n"
     ]
    }
   ],
   "source": [
    "import sqlite3\n",
    "\n",
    "conn = sqlite3.connect('josep_count.sqlite')\n",
    "cur = conn.cursor()\n",
    "\n",
    "cur.execute('''\n",
    "DROP TABLE IF EXISTS Counts''')\n",
    "\n",
    "cur.execute('''\n",
    "CREATE TABLE Counts (org TEXT, count INTEGER)''')\n",
    "\n",
    "fname = raw_input('Enter file name: ')\n",
    "if ( len(fname) < 1 ) : fname = 'mbox-short.txt'\n",
    "fh = open(fname)\n",
    "for line in fh:\n",
    "    if not line.startswith('From: ') : continue\n",
    "    pieces = line.split()\n",
    "    email = pieces[1] # is the place where the email is\n",
    "    org = email.rsplit('@')[1]\n",
    "    \n",
    "    cur.execute('SELECT count FROM Counts WHERE org = ?', (org, ))\n",
    "\n",
    "    row = cur.fetchone()    # fetches next row of a query result set  returning a single sequence\n",
    "    if row is None:\n",
    "        cur.execute('''INSERT INTO Counts (org, count) \n",
    "                VALUES ( ?, 1 )''', ( org, ) )\n",
    "    else : \n",
    "        cur.execute('UPDATE Counts SET count=count+1 WHERE org = ?', \n",
    "            (org, ))\n",
    "    conn.commit()   # the commit makes the changes visible into the DB\n",
    "\n",
    "# https://www.sqlite.org/lang_select.html\n",
    "sqlstr = 'SELECT org, count FROM Counts ORDER BY count DESC LIMIT 10'\n",
    "\n",
    "for row in cur.execute(sqlstr) :\n",
    "    print str(row[0]), row[1]\n",
    "\n",
    "cur.close()\n",
    "\n",
    "    \n",
    "    "
   ]
  },
  {
   "cell_type": "code",
   "execution_count": null,
   "metadata": {
    "collapsed": true
   },
   "outputs": [],
   "source": []
  },
  {
   "cell_type": "code",
   "execution_count": null,
   "metadata": {
    "collapsed": true
   },
   "outputs": [],
   "source": []
  }
 ],
 "metadata": {
  "kernelspec": {
   "display_name": "Python 2",
   "language": "python",
   "name": "python2"
  },
  "language_info": {
   "codemirror_mode": {
    "name": "ipython",
    "version": 2
   },
   "file_extension": ".py",
   "mimetype": "text/x-python",
   "name": "python",
   "nbconvert_exporter": "python",
   "pygments_lexer": "ipython2",
   "version": "2.7.11+"
  }
 },
 "nbformat": 4,
 "nbformat_minor": 0
}
