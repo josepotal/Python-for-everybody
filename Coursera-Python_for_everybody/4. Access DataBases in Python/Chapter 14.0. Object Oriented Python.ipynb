{
 "cells": [
  {
   "cell_type": "markdown",
   "metadata": {},
   "source": [
    "# Object Oriented Python: Introduction\n",
    "\n",
    "- methods vs functions\n",
    "    - methods are frunctions part of an object\n"
   ]
  },
  {
   "cell_type": "markdown",
   "metadata": {},
   "source": [
    "# What is an object?\n",
    "- Object is a bit of self-contained Code and Data\n",
    "- Object hide the details and isolating complexity\n",
    "\n",
    "## Terminology\n",
    "- \"Class\" is a template/\n",
    "    - is like a blueprint\n",
    "- Method or message: defined capability of a class\n",
    "    - function inside the class\n",
    "- Field is the data in a class. \n",
    "- Object and instance: it is a particular instance of a class\n",
    "    - is the actual variable"
   ]
  },
  {
   "cell_type": "markdown",
   "metadata": {},
   "source": [
    "# Simple Python Objects"
   ]
  },
  {
   "cell_type": "code",
   "execution_count": 8,
   "metadata": {
    "collapsed": false
   },
   "outputs": [
    {
     "name": "stdout",
     "output_type": "stream",
     "text": [
      "1\n",
      "2\n",
      "3\n",
      "Type <type 'instance'>\n",
      "Dir ['__doc__', '__module__', 'party', 'x']\n"
     ]
    }
   ],
   "source": [
    "class PartyAnimal:    #class\n",
    "    x = 0             #variable\n",
    "    def party(self):  # method.   self is an alias to 'an' in this case\n",
    "        self.x = self.x + 1\n",
    "        print self.x\n",
    "\n",
    "an = PartyAnimal()  # create a variabel an which is an object/instance\n",
    "\n",
    "an.party()          # we call the party method in 'an'. Is like PartyAnimal.party(an)\n",
    "an.party()          # self is an alias to 'an'\n",
    "an.party()\n",
    "\n",
    "print \"Type\", type(an)\n",
    "print \"Dir\", dir(an)    # shows the methods in our an instance"
   ]
  },
  {
   "cell_type": "markdown",
   "metadata": {},
   "source": [
    "# Object Lifecycle\n",
    "- contstructor: statements called when the object is created  __init_\n",
    "\n"
   ]
  },
  {
   "cell_type": "code",
   "execution_count": 18,
   "metadata": {
    "collapsed": false
   },
   "outputs": [
    {
     "name": "stdout",
     "output_type": "stream",
     "text": [
      "Sally constructed\n",
      "Sally party count 1 olding 28\n",
      "Jim constructed\n",
      "Jim party count 1 olding 29\n"
     ]
    }
   ],
   "source": [
    "class PartyAnimal:    #class\n",
    "    x = 0             #variable\n",
    "    \n",
    "    def __init__(self,z,x):  # name is a parameter\n",
    "        self.name = z\n",
    "        self.age = x\n",
    "        print self.name, \"constructed\"\n",
    "    \n",
    "    def party(self):  # method.   self is an alias to 'an' in this case\n",
    "        self.x = self.x + 1\n",
    "        print self.name, \"party count\", self.x, \"olding\",self.age \n",
    "\n",
    "s = PartyAnimal(\"Sally\",28)    # 's' is instance \"Sally\"\n",
    "s.party()\n",
    "\n",
    "j = PartyAnimal('Jim',29)     # 'j' is instance Jim\n",
    "j.party()"
   ]
  },
  {
   "cell_type": "markdown",
   "metadata": {},
   "source": [
    "# Inheritance or extension\n",
    "- parent vs child: child uses (copies) capacbilitties from parent "
   ]
  },
  {
   "cell_type": "code",
   "execution_count": 20,
   "metadata": {
    "collapsed": false
   },
   "outputs": [
    {
     "name": "stdout",
     "output_type": "stream",
     "text": [
      "Sally constructed\n",
      "Sally party count 1 olding 28\n",
      "Jim constructed\n",
      "Jim party count 1 olding 29\n",
      "Jim party count 2 olding 29\n",
      "Jim points 7\n"
     ]
    }
   ],
   "source": [
    "class PartyAnimal:    #class\n",
    "    x = 0             #variable\n",
    "    \n",
    "    def __init__(self,z,x):  # name is a parameter\n",
    "        self.name = z\n",
    "        self.age = x\n",
    "        print self.name, \"constructed\"\n",
    "    \n",
    "    def party(self):  # method.   self is an alias to 'an' in this case\n",
    "        self.x = self.x + 1\n",
    "        print self.name, \"party count\", self.x, \"olding\",self.age \n",
    "\n",
    "\n",
    "class FootballFan(PartyAnimal):  # it has the methods of PartyAnimal class, which are _init__ and party\n",
    "    points = 0\n",
    "    def touchdown(self):     # new method\n",
    "        self.points = self.points + 7\n",
    "        self.party()\n",
    "        print self.name, \"points\", self.points\n",
    "        \n",
    "s = PartyAnimal(\"Sally\",28)    # 's' is instance \"Sally\"\n",
    "s.party()\n",
    "\n",
    "j = FootballFan('Jim',29)     # 'j' is instance Jim\n",
    "j.party()\n",
    "j.touchdown()"
   ]
  }
 ],
 "metadata": {
  "kernelspec": {
   "display_name": "Python 2",
   "language": "python",
   "name": "python2"
  },
  "language_info": {
   "codemirror_mode": {
    "name": "ipython",
    "version": 2
   },
   "file_extension": ".py",
   "mimetype": "text/x-python",
   "name": "python",
   "nbconvert_exporter": "python",
   "pygments_lexer": "ipython2",
   "version": "2.7.11+"
  }
 },
 "nbformat": 4,
 "nbformat_minor": 0
}
