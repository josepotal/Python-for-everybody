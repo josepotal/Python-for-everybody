{
 "cells": [
  {
   "cell_type": "markdown",
   "metadata": {},
   "source": [
    "## Web services overview\n",
    "- when we exchange data from differnt applications the format of the data is not the same\n",
    "    - python uses dictionaris    ==  java uses hashmap\n",
    "    - but we have to send something tha both java and python agree on, and then convert --> Wire protocol!\n",
    "- Wire formats: XML and JSON\n",
    "    - Serialize: take the internal structure into a wiere format\n",
    "    - Deserialize: take the wire format and create an internal structure\n",
    " \n",
    "- XML: eXtensible Markup Language\n",
    "- JSON: JavaScrip Object Notation\n",
    "\n",
    "<img src='XML.png'>\n",
    "<img src='JSON.png'>\n",
    "\n"
   ]
  },
  {
   "cell_type": "markdown",
   "metadata": {},
   "source": [
    "# XML - eXtensible Markup Language\n",
    "- XML Elements (or Nodes)\n",
    "    - Simple elements: tag include one element\n",
    "    - Complex elements: tag that includes multiple tags\n",
    "- XML basics:\n",
    "    - indentation is only for readibility\n",
    "<img src= 'XMLbasics.png'>\n",
    "\n",
    "- XML describes some useful by the name of the tags\n",
    "    - Tags: indicate begin and end of elements\n",
    "    - Attribute: key-value pairs on the opening tag of HTML\n",
    "    - Serialize /De-serialize:\n",
    "    \n",
    "- XML as tree:\n",
    "    - Parent- child\n",
    "    <img src = 'XMLtree.png'>\n",
    "- XML as path:\n",
    "    - a/b/c\n",
    "- Contract between applications: what is valid or not in XML "
   ]
  },
  {
   "cell_type": "markdown",
   "metadata": {},
   "source": [
    "# XML Schema\n",
    "- From the XML document\n",
    "- There is a XML schema contract\n",
    "- That the XML validation, validates it is correct\n",
    "- Formalize a relationship\n",
    "\n",
    "#### XML Schema from W3C\n",
    " -It is also called XSD structure\n",
    " <img src = \"XSD.png\">\n",
    " \n",
    " <img src = \"XSD2.png\">\n",
    " \n",
    " <img src = \"ISO8601.png\">\n",
    " - T: time\n",
    " - Z : UTC timezone\n",
    " "
   ]
  },
  {
   "cell_type": "markdown",
   "metadata": {},
   "source": [
    "# PARSING XML in PYTHON\n",
    "- XML is built into Python\n",
    "- http://www.pythonlearn.com/code/"
   ]
  },
  {
   "cell_type": "code",
   "execution_count": 1,
   "metadata": {
    "collapsed": false
   },
   "outputs": [
    {
     "name": "stdout",
     "output_type": "stream",
     "text": [
      "Name: Chuck\n",
      "Attr: yes\n"
     ]
    }
   ],
   "source": [
    "import xml.etree.ElementTree as ET\n",
    "#data is an XML\n",
    "data = '''\n",
    "<person>\n",
    "  <name>Chuck</name>\n",
    "  <phone type=\"intl\">\n",
    "     +1 734 303 4456\n",
    "   </phone>\n",
    "   <email hide=\"yes\"/>\n",
    "</person>'''\n",
    "\n",
    "tree = ET.fromstring(data)        # converts the string data into a tree object\n",
    "print 'Name:',tree.find('name').text    # retrieves the text on name tag\n",
    "print 'Attr:',tree.find('email').get('hide')  # retrieves the value of the attribute hide\n"
   ]
  },
  {
   "cell_type": "code",
   "execution_count": 2,
   "metadata": {
    "collapsed": false
   },
   "outputs": [
    {
     "name": "stdout",
     "output_type": "stream",
     "text": [
      "User count: 2\n",
      "Name Chuck\n",
      "Id 001\n",
      "Attribute 2\n",
      "Name Brent\n",
      "Id 009\n",
      "Attribute 7\n"
     ]
    }
   ],
   "source": [
    "import xml.etree.ElementTree as ET\n",
    "\n",
    "input = '''\n",
    "<stuff>\n",
    "    <users>\n",
    "        <user x=\"2\">\n",
    "            <id>001</id>\n",
    "            <name>Chuck</name>\n",
    "        </user>\n",
    "        <user x=\"7\">\n",
    "            <id>009</id>\n",
    "            <name>Brent</name>\n",
    "            </user>\n",
    "        </users>\n",
    "</stuff>'''\n",
    "\n",
    "stuff = ET.fromstring(input)  # reds the data and process a tree structure\n",
    "lst = stuff.findall('users/user')  # grap all the things(user) on the path 'users/user' return me a list\n",
    "print 'User count:', len(lst)\n",
    "\n",
    "for item in lst:    # things inside the lists are XML nodes\n",
    "    print 'Name', item.find('name').text\n",
    "    print 'Id', item.find('id').text\n",
    "    print 'Attribute', item.get(\"x\")"
   ]
  },
  {
   "cell_type": "markdown",
   "metadata": {
    "collapsed": true
   },
   "source": [
    "# ASSIGNMENT: 'EXTRACTING FROM XML'"
   ]
  },
  {
   "cell_type": "markdown",
   "metadata": {},
   "source": [
    "## Josep Code"
   ]
  },
  {
   "cell_type": "code",
   "execution_count": 37,
   "metadata": {
    "collapsed": false
   },
   "outputs": [
    {
     "name": "stdout",
     "output_type": "stream",
     "text": [
      "Retrieved 4209 characters\n",
      "Count: 50\n",
      "Sum: 2496\n"
     ]
    }
   ],
   "source": [
    "import urllib\n",
    "import xml.etree.ElementTree as ET\n",
    "\n",
    "url = 'http://python-data.dr-chuck.net/comments_283163.xml'\n",
    "\n",
    "xml = urllib.urlopen(url).read()\n",
    "print \"Retrieved\", len(xml),'characters'\n",
    "\n",
    "tree = ET.fromstring(xml)\n",
    "\n",
    "lst = tree.findall('.//comment')\n",
    "print \"Count:\",len(lst)\n",
    "\n",
    "numbers = list()\n",
    "for item in lst:\n",
    "    numbers.append(int(item.find('count').text))\n",
    "\n",
    "print \"Sum:\", sum(numbers)"
   ]
  },
  {
   "cell_type": "markdown",
   "metadata": {},
   "source": [
    "## Better Code"
   ]
  },
  {
   "cell_type": "code",
   "execution_count": null,
   "metadata": {
    "collapsed": true
   },
   "outputs": [],
   "source": []
  }
 ],
 "metadata": {
  "kernelspec": {
   "display_name": "Python 2",
   "language": "python",
   "name": "python2"
  },
  "language_info": {
   "codemirror_mode": {
    "name": "ipython",
    "version": 2
   },
   "file_extension": ".py",
   "mimetype": "text/x-python",
   "name": "python",
   "nbconvert_exporter": "python",
   "pygments_lexer": "ipython2",
   "version": "2.7.11+"
  }
 },
 "nbformat": 4,
 "nbformat_minor": 0
}
