{
 "cells": [
  {
   "cell_type": "markdown",
   "metadata": {},
   "source": [
    "# Networked programs\n",
    "\n",
    "- Detailed infor in the Coursera Course Internet History, Technology and SEcurity"
   ]
  },
  {
   "cell_type": "markdown",
   "metadata": {},
   "source": [
    " ## Transport Control Protocol TCP\n",
    "    - Peer to Peer transport \n",
    " - **Socket** is an endpoint of bidirectional inter -process communication flow across ITP computer network.\n",
    "     - is connection between 2 processes or computer applications. \n",
    "         - One process is our code \n",
    "         - Second process is the Web Server\n",
    "     - is the abstraction that allows us to connect to another process and exchange data with that\n",
    " \n",
    " <img src = 'sockets.png'>"
   ]
  },
  {
   "cell_type": "markdown",
   "metadata": {},
   "source": [
    " **TCP Port Numbers**\n",
    " - the big server is the orange box \"www.umich.edu\"\n",
    " - the client makes the connection, the server reacts to it\n",
    " - each application has a differnt extension so differnt port numbers\n",
    " - the domain name is \"www.umich.edu\"  that turns into an IP adress \"74.208.28.177\"<-- this is the host \n",
    " - Port 80 is the most used as it connect to the web server\n",
    " -\n",
    "<img src = 'TCP_port.png'>\n",
    "<img src = 'ports.png'>"
   ]
  },
  {
   "cell_type": "markdown",
   "metadata": {},
   "source": [
    "### Sockets in Python"
   ]
  },
  {
   "cell_type": "code",
   "execution_count": 5,
   "metadata": {
    "collapsed": true
   },
   "outputs": [],
   "source": [
    "import socket   #library in python\n",
    "\n",
    "mysock = socket.socket(socket.AF_INET, socket.SOCK_STREAM)  \n",
    "# method.method --> first socket is the library, the second socket is the method\n",
    "# both parameters are almost always the same. First parameter: make an internet socket. Second: stream socket \n",
    "# it opens a port hole to the outside world but it is not connected\n",
    "\n",
    "mysock.connect(('www.py4inf.com', 80))\n",
    "# connect me to the other end( host and port)"
   ]
  },
  {
   "cell_type": "markdown",
   "metadata": {},
   "source": [
    "# From sockets to application"
   ]
  },
  {
   "cell_type": "markdown",
   "metadata": {},
   "source": [
    "## Application Protocol\n",
    " - From WEb Browser to the Web server\n",
    " - Most known protocol is HTTP - Hypertext Transport Protocol\n",
    "     - Protocols are just rules\n",
    " - HTTP is a sequence of rules\n",
    " \n",
    " ### The webbrowser has URL Uniform Resource Locator\n",
    "     - htttp://www.dr-chuck.com/page1.htm\n",
    "         - \"http://\" is the protocol\n",
    "         - \"www.dr-chuck.com\" is the host\n",
    "         - \"page1.htm\" is the document\n",
    " ### Request Response Cycle --> asking for a new document\n",
    "     - clicking on the link of the web -->  makes a request\n",
    "     - the response is the new website\n",
    "     - i.e. click on the link \"Second Page\" --> \n",
    "             - is the event that goes to a piece of software: the browser \n",
    "             - REQUEST_the browser makes a network connection to the Web Server --> sends the GET request\n",
    "             - RESPONSE the browser receives from the Web Server a new page document and shows -->"
   ]
  },
  {
   "cell_type": "markdown",
   "metadata": {},
   "source": [
    "### The syntax of making an HTTP request (As example)\n",
    "\n",
    "- on the terminal\n",
    "opens the connection, sensd the request, retrieves the data and closes the connection\n",
    "    - telnet www.dr-chuck.com 80\n",
    "    - GET http://www.dr-chuck.com/page1.htm HTTP/1.0\n",
    "\n",
    "<img src = 'http.png'>"
   ]
  },
  {
   "cell_type": "markdown",
   "metadata": {},
   "source": [
    "# Let's write a Web Browser"
   ]
  },
  {
   "cell_type": "code",
   "execution_count": 10,
   "metadata": {
    "collapsed": false
   },
   "outputs": [
    {
     "name": "stdout",
     "output_type": "stream",
     "text": [
      "HTTP/1.1 200 OK\r\n",
      "Date: Thu, 16 Jun 2016 21:17:28 GMT\r\n",
      "Server: Apache\r\n",
      "Last-Modified: Fri, 04 Dec 2015 19:05:04 GMT\r\n",
      "ETag: \"e103c2f4-a7-526172f5b5d89\"\r\n",
      "Accept-Ranges: bytes\r\n",
      "Content-Length: 167\r\n",
      "Cache-Control: max-age=604800, public\r\n",
      "Access-Control-Allow-Origin: *\r\n",
      "Access-Control-Allow-Headers: origin, x-requested-with, content-type\r\n",
      "Access-Control-Allow-Methods: GET\r\n",
      "Connection: close\r\n",
      "Content-Type: text/plain\r\n",
      "\r\n",
      "But soft what light through yonder window breaks\n",
      "It is the east and Juliet is the sun\n",
      "Arise fai\n",
      "r sun and kill the envious moon\n",
      "Who is already sick and pale with grief\n",
      "\n"
     ]
    }
   ],
   "source": [
    "import socket   #library in python\n",
    "\n",
    "mysock = socket.socket(socket.AF_INET, socket.SOCK_STREAM)  \n",
    "mysock.connect(('www.py4inf.com', 80))\n",
    "\n",
    "mysock.send('GET http://www.py4inf.com/code/romeo.txt HHTP/1.0 \\n\\n ')\n",
    "\n",
    "while True:\n",
    "    data = mysock.recv(512)\n",
    "    if (len(data)<1):\n",
    "        break\n",
    "    print data;\n",
    "\n",
    "mysock.close()"
   ]
  },
  {
   "cell_type": "markdown",
   "metadata": {},
   "source": [
    "## Using **urllib()** in python\n",
    " - even easier than sockets\n",
    " - talk to urls as files. converts urls into files"
   ]
  },
  {
   "cell_type": "code",
   "execution_count": 13,
   "metadata": {
    "collapsed": false
   },
   "outputs": [
    {
     "name": "stdout",
     "output_type": "stream",
     "text": [
      "But soft what light through yonder window breaks\n",
      "It is the east and Juliet is the sun\n",
      "Arise fair sun and kill the envious moon\n",
      "Who is already sick and pale with grief\n"
     ]
    }
   ],
   "source": [
    "import urllib\n",
    "fhand = urllib.urlopen('http://www.py4inf.com/code/romeo.txt')\n",
    "for line in fhand:\n",
    "    print line.strip()"
   ]
  },
  {
   "cell_type": "code",
   "execution_count": 1,
   "metadata": {
    "collapsed": false
   },
   "outputs": [
    {
     "name": "stdout",
     "output_type": "stream",
     "text": [
      "{'and': 3, 'envious': 1, 'already': 1, 'fair': 1, 'is': 3, 'through': 1, 'pale': 1, 'yonder': 1, 'what': 1, 'sun': 2, 'Who': 1, 'But': 1, 'moon': 1, 'window': 1, 'sick': 1, 'east': 1, 'breaks': 1, 'grief': 1, 'with': 1, 'light': 1, 'It': 1, 'Arise': 1, 'kill': 1, 'the': 3, 'soft': 1, 'Juliet': 1}\n",
      "<addinfourl at 140404792467752 whose fp = <socket._fileobject object at 0x7fb289cbe6d0>>\n"
     ]
    }
   ],
   "source": [
    "import urllib\n",
    "fhand = urllib.urlopen('http://www.py4inf.com/code/romeo.txt')\n",
    "\n",
    "#same code for a file, we can use it here\n",
    "counts = dict()\n",
    "for line in fhand:\n",
    "    words = line.split()\n",
    "    for word in words:\n",
    "        counts[word] = counts.get(word,0) + 1\n",
    "print counts\n",
    "print fhand"
   ]
  },
  {
   "cell_type": "markdown",
   "metadata": {},
   "source": [
    "# ASSINGMENT "
   ]
  },
  {
   "cell_type": "code",
   "execution_count": 16,
   "metadata": {
    "collapsed": false
   },
   "outputs": [
    {
     "name": "stdout",
     "output_type": "stream",
     "text": [
      "HTTP/1.1 200 OK\r\n",
      "Date: Thu, 16 Jun 2016 21:35:33 GMT\r\n",
      "Server: Apache\r\n",
      "Last-Modified: Mon, 12 Oct 2015 14:55:29 GMT\r\n",
      "ETag: \"20f7401b-1d3-521e9853a392b\"\r\n",
      "Accept-Ranges: bytes\r\n",
      "Content-Length: 467\r\n",
      "Cache-Control: max-age=604800, public\r\n",
      "Access-Control-Allow-Origin: *\r\n",
      "Access-Control-Allow-Headers: origin, x-requested-with, content-type\r\n",
      "Access-Control-Allow-Methods: GET\r\n",
      "Connection: close\r\n",
      "Content-Type: text/plain\r\n",
      "\r\n",
      "Why should you learn to write programs?\n",
      "\n",
      "Writing programs (or programming) is a very creative \n",
      "\n",
      "and rewarding activity.  You can write programs for \n",
      "many reasons, ranging from making your living to solving\n",
      "a difficult data analysis problem to having fun to helping\n",
      "someone else solve a problem.  This book assumes that \n",
      "everyone needs to know how to program, and that once \n",
      "you know how to program you will figure out what you want \n",
      "to do with your newfound skills.  \n",
      "\n"
     ]
    }
   ],
   "source": [
    "import socket   #library in python\n",
    "mysock = socket.socket(socket.AF_INET, socket.SOCK_STREAM)  \n",
    "mysock.connect(('www.pythonlearn.com', 80))\n",
    "\n",
    "mysock.send('GET http://www.pythonlearn.com/code/intro-short.txt HHTP/1.0 \\n\\n ')\n",
    "\n",
    "while True:\n",
    "    data = mysock.recv(512)\n",
    "    if (len(data)<1):\n",
    "        break\n",
    "    print data;\n",
    "\n",
    "mysock.close()"
   ]
  },
  {
   "cell_type": "code",
   "execution_count": null,
   "metadata": {
    "collapsed": true
   },
   "outputs": [],
   "source": []
  }
 ],
 "metadata": {
  "kernelspec": {
   "display_name": "Python 2",
   "language": "python",
   "name": "python2"
  },
  "language_info": {
   "codemirror_mode": {
    "name": "ipython",
    "version": 2
   },
   "file_extension": ".py",
   "mimetype": "text/x-python",
   "name": "python",
   "nbconvert_exporter": "python",
   "pygments_lexer": "ipython2",
   "version": "2.7.11+"
  }
 },
 "nbformat": 4,
 "nbformat_minor": 0
}
