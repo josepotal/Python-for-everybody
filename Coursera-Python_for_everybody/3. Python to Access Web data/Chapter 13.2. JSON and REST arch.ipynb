{
 "cells": [
  {
   "cell_type": "markdown",
   "metadata": {
    "collapsed": true
   },
   "source": [
    "# JSON - JavaScript Object Notation\n",
    "- looks like Python\n",
    "- it a bit less self-described\n",
    "- JSOn has two possible structures:\n",
    "    - List (arrays)\n",
    "    - Dicts (object)"
   ]
  },
  {
   "cell_type": "markdown",
   "metadata": {},
   "source": [
    "### JSON syntax - dictionary example"
   ]
  },
  {
   "cell_type": "code",
   "execution_count": 25,
   "metadata": {
    "collapsed": false
   },
   "outputs": [
    {
     "name": "stdout",
     "output_type": "stream",
     "text": [
      "<type 'dict'>\n",
      "Name: Chuck\n",
      "Hide: yes\n"
     ]
    }
   ],
   "source": [
    "import json\n",
    "# Are objects!! \n",
    "#the following JSON has 3 keys ['name','phone','email']\n",
    "# key-value pairs after the curly braces {\n",
    "        # key-value- The value  of key \"name\" is a string\n",
    "        # the value of key 'phone' is a whole object, uses the \"{...}\"\n",
    "        # the value of key 'email' is an object\n",
    "\n",
    "data = '''{     \n",
    "  \"name\" : \"Chuck\",         \n",
    "  \"phone\" : {                \n",
    "    \"type\" : \"intl\",\n",
    "    \"number\" : \"+1 734 303 4456\"\n",
    "   },\n",
    "   \"email\" : {               \n",
    "     \"hide\" : \"yes\"\n",
    "   }\n",
    "}'''\n",
    "\n",
    "info = json.loads(data)     # de-serialize the json, the output is a dict Load from string\n",
    "print type(info)\n",
    "print 'Name:',info[\"name\"]\n",
    "print 'Hide:',info[\"email\"][\"hide\"]\n",
    "\n",
    "# returns a native dictionary!!"
   ]
  },
  {
   "cell_type": "markdown",
   "metadata": {},
   "source": [
    "### JSON syntax - Lists"
   ]
  },
  {
   "cell_type": "code",
   "execution_count": 23,
   "metadata": {
    "collapsed": false
   },
   "outputs": [
    {
     "name": "stdout",
     "output_type": "stream",
     "text": [
      "<type 'list'>\n",
      "User count: 2\n",
      "Name Chuck\n",
      "Id 001\n",
      "Attribute 2\n",
      "Name Chuck\n",
      "Id 009\n",
      "Attribute 7\n"
     ]
    }
   ],
   "source": [
    "import json\n",
    "# this JSON is a list of 2 objects separated by comma\n",
    "input = '''[\n",
    "  { \"id\" : \"001\",\n",
    "    \"x\" : \"2\",\n",
    "    \"name\" : \"Chuck\"\n",
    "  } ,\n",
    "  { \"id\" : \"009\",\n",
    "    \"x\" : \"7\",\n",
    "    \"name\" : \"Chuck\"\n",
    "  } \n",
    "]'''\n",
    "\n",
    "info = json.loads(input) # de-serialize json  --> returns a list a dicts!\n",
    "print type(info)\n",
    "print 'User count:', len(info)\n",
    "\n",
    "for item in info:     # item is an object! so we can loop\n",
    "    print 'Name', item['name']\n",
    "    print 'Id', item['id']\n",
    "    print 'Attribute', item['x']\n"
   ]
  },
  {
   "cell_type": "markdown",
   "metadata": {},
   "source": [
    "# Service Oriented Approach\n",
    "- Use services from other applications\n",
    "- Services publish the rules, applications must follow to use the service --> API!!\n",
    "- API: "
   ]
  },
  {
   "cell_type": "markdown",
   "metadata": {},
   "source": [
    "# Service Oriented Architectures\n",
    "- Services layer on the systems: able to use the data from other system and converted into a common format usable for own system \n",
    "- Adaptability"
   ]
  },
  {
   "cell_type": "markdown",
   "metadata": {},
   "source": [
    "# Accessing APIs in Python\n",
    "\n",
    "- Application Program Interfaces (APIs)\n",
    "\n",
    "- REST - Representational State Transfer\n"
   ]
  },
  {
   "cell_type": "markdown",
   "metadata": {},
   "source": [
    "## Google API"
   ]
  },
  {
   "cell_type": "code",
   "execution_count": 14,
   "metadata": {
    "collapsed": false
   },
   "outputs": [
    {
     "name": "stdout",
     "output_type": "stream",
     "text": [
      "Enter location: Sant Martí de Tous\n",
      "Retrieving http://maps.googleapis.com/maps/api/geocode/json?sensor=false&address=Sant+Mart%C3%AD+de+Tous\n",
      "Retrieved 2288 characters\n",
      "{\n",
      "    \"status\": \"OK\", \n",
      "    \"results\": [\n",
      "        {\n",
      "            \"geometry\": {\n",
      "                \"location_type\": \"APPROXIMATE\", \n",
      "                \"bounds\": {\n",
      "                    \"northeast\": {\n",
      "                        \"lat\": 41.5650961, \n",
      "                        \"lng\": 1.527262\n",
      "                    }, \n",
      "                    \"southwest\": {\n",
      "                        \"lat\": 41.5569832, \n",
      "                        \"lng\": 1.5159886\n",
      "                    }\n",
      "                }, \n",
      "                \"viewport\": {\n",
      "                    \"northeast\": {\n",
      "                        \"lat\": 41.5650961, \n",
      "                        \"lng\": 1.527262\n",
      "                    }, \n",
      "                    \"southwest\": {\n",
      "                        \"lat\": 41.5569832, \n",
      "                        \"lng\": 1.5159886\n",
      "                    }\n",
      "                }, \n",
      "                \"location\": {\n",
      "                    \"lat\": 41.5606948, \n",
      "                    \"lng\": 1.523511\n",
      "                }\n",
      "            }, \n",
      "            \"address_components\": [\n",
      "                {\n",
      "                    \"long_name\": \"Sant Mart\\u00ed de Tous\", \n",
      "                    \"types\": [\n",
      "                        \"locality\", \n",
      "                        \"political\"\n",
      "                    ], \n",
      "                    \"short_name\": \"Sant Mart\\u00ed de Tous\"\n",
      "                }, \n",
      "                {\n",
      "                    \"long_name\": \"Sant Mart\\u00ed de Tous\", \n",
      "                    \"types\": [\n",
      "                        \"administrative_area_level_4\", \n",
      "                        \"political\"\n",
      "                    ], \n",
      "                    \"short_name\": \"Sant Mart\\u00ed de Tous\"\n",
      "                }, \n",
      "                {\n",
      "                    \"long_name\": \"L'Anoia\", \n",
      "                    \"types\": [\n",
      "                        \"administrative_area_level_3\", \n",
      "                        \"political\"\n",
      "                    ], \n",
      "                    \"short_name\": \"L'Anoia\"\n",
      "                }, \n",
      "                {\n",
      "                    \"long_name\": \"Barcelona\", \n",
      "                    \"types\": [\n",
      "                        \"administrative_area_level_2\", \n",
      "                        \"political\"\n",
      "                    ], \n",
      "                    \"short_name\": \"Barcelona\"\n",
      "                }, \n",
      "                {\n",
      "                    \"long_name\": \"Catalunya\", \n",
      "                    \"types\": [\n",
      "                        \"administrative_area_level_1\", \n",
      "                        \"political\"\n",
      "                    ], \n",
      "                    \"short_name\": \"CT\"\n",
      "                }, \n",
      "                {\n",
      "                    \"long_name\": \"Spain\", \n",
      "                    \"types\": [\n",
      "                        \"country\", \n",
      "                        \"political\"\n",
      "                    ], \n",
      "                    \"short_name\": \"ES\"\n",
      "                }, \n",
      "                {\n",
      "                    \"long_name\": \"08712\", \n",
      "                    \"types\": [\n",
      "                        \"postal_code\"\n",
      "                    ], \n",
      "                    \"short_name\": \"08712\"\n",
      "                }\n",
      "            ], \n",
      "            \"place_id\": \"ChIJO6nwBM1qpBIRKg2Diq8EugI\", \n",
      "            \"formatted_address\": \"08712 Sant Mart\\u00ed de Tous, Barcelona, Spain\", \n",
      "            \"types\": [\n",
      "                \"locality\", \n",
      "                \"political\"\n",
      "            ]\n",
      "        }\n",
      "    ]\n",
      "}\n",
      "lat 41.5606948 lng 1.523511\n",
      "08712 Sant Martí de Tous, Barcelona, Spain\n",
      "Enter location: \n"
     ]
    }
   ],
   "source": [
    "import urllib\n",
    "import json\n",
    "\n",
    "serviceurl = 'http://maps.googleapis.com/maps/api/geocode/json?'\n",
    "#serviceurl = 'http://python-data.dr-chuck.net/geojson?'\n",
    "\n",
    "while True:\n",
    "    address = raw_input('Enter location: ')\n",
    "    if len(address) < 1 : break\n",
    "\n",
    "    url = serviceurl + urllib.urlencode({'sensor':'false', 'address': address})\n",
    "    print 'Retrieving', url\n",
    "    uh = urllib.urlopen(url)\n",
    "    data = uh.read()\n",
    "    print 'Retrieved',len(data),'characters'\n",
    "\n",
    "    try: js = json.loads(str(data))\n",
    "    except: js = None\n",
    "    if 'status' not in js or js['status'] != 'OK':\n",
    "        print '==== Failure To Retrieve ===='\n",
    "        print data\n",
    "        continue\n",
    "\n",
    "    print json.dumps(js, indent=4)         # dump string.  js is a dictionary\n",
    "\n",
    "    lat = js[\"results\"][0][\"geometry\"][\"location\"][\"lat\"]  #results is a list\n",
    "    lng = js[\"results\"][0][\"geometry\"][\"location\"][\"lng\"]\n",
    "    print 'lat',lat,'lng',lng\n",
    "    location = js['results'][0]['formatted_address']\n",
    "    print location\n"
   ]
  },
  {
   "cell_type": "markdown",
   "metadata": {},
   "source": [
    "## Twitter API\n",
    "- OAuth\n",
    "- Tokens"
   ]
  },
  {
   "cell_type": "code",
   "execution_count": 5,
   "metadata": {
    "collapsed": false
   },
   "outputs": [
    {
     "name": "stdout",
     "output_type": "stream",
     "text": [
      " \n",
      "Enter Twitter Account:\n"
     ]
    }
   ],
   "source": [
    "## need further exploration as he uses his own .py files for that\n",
    "\n",
    "# it will be nice to develop you own code, as we did in some other course!\n",
    "\n",
    "import urllib\n",
    "import twurl\n",
    "import json\n",
    "\n",
    "TWITTER_URL = 'https://api.twitter.com/1.1/friends/list.json'\n",
    "\n",
    "while True:\n",
    "    print ''\n",
    "    acct = raw_input('Enter Twitter Account:')\n",
    "    if ( len(acct) < 1 ) : break\n",
    "    url = twurl.augment(TWITTER_URL,\n",
    "        {'screen_name': acct, 'count': '5'} )\n",
    "    print 'Retrieving', url\n",
    "    \n",
    "    connection = urllib.urlopen(url)  \n",
    "    data = connection.read()            # read te body\n",
    "    headers = connection.info().dict    # headers\n",
    "    print 'Remaining', headers['x-rate-limit-remaining'] # how many consutls remain\n",
    "    js = json.loads(data)   # array of objects\n",
    "    print json.dumps(js, indent=4)\n",
    "\n",
    "    for u in js['users'] :\n",
    "        print u['screen_name']\n",
    "        s = u['status']['text']\n",
    "        print '  ',s[:50]"
   ]
  },
  {
   "cell_type": "markdown",
   "metadata": {},
   "source": [
    "# ASSIGNMENT: \"EXTRACTING DATA FROM JSON\"\n",
    "- Promp a url\n",
    "- read a json using urllib\n",
    "- parse and extract comments\n",
    "- compute sum of numbers"
   ]
  },
  {
   "cell_type": "code",
   "execution_count": 38,
   "metadata": {
    "collapsed": false
   },
   "outputs": [
    {
     "name": "stdout",
     "output_type": "stream",
     "text": [
      "<type 'str'>\n",
      "<type 'dict'>\n"
     ]
    },
    {
     "data": {
      "text/plain": [
       "2421"
      ]
     },
     "execution_count": 38,
     "metadata": {},
     "output_type": "execute_result"
    }
   ],
   "source": [
    "import urllib\n",
    "import json\n",
    "\n",
    "url = 'http://python-data.dr-chuck.net/comments_283167.json'\n",
    "\n",
    "data = urllib.urlopen(url).read()\n",
    "print type(data)   # is string, if not we will need to put json.loads(str(data))\n",
    "\n",
    "info = json.loads(data) # de-serialize json  --> returns a list a dicts!\n",
    "print type(info)\n",
    "#info\n",
    "\n",
    "lst =list()\n",
    "for u in info['comments']:\n",
    "    lst.append(u['count'])\n",
    "sum(lst)\n",
    "    "
   ]
  },
  {
   "cell_type": "markdown",
   "metadata": {},
   "source": [
    "# ASSIGNMENT: USING GEOJSON API\n",
    "- prompt a location\n",
    "- contact web service\n",
    "- retrieve JSON\n",
    "- parse data\n",
    "- retrieve first \"place_id\""
   ]
  },
  {
   "cell_type": "code",
   "execution_count": null,
   "metadata": {
    "collapsed": false
   },
   "outputs": [
    {
     "name": "stdout",
     "output_type": "stream",
     "text": [
      "Enter location:Bangalore University\n",
      "Retrieving http://python-data.dr-chuck.net/geojson?sensor=false&address=Bangalore+University\n",
      "Retrieving 2149 Characters\n",
      "Place id ChIJh2uBlpE-rjsRu0fX9kweAD8\n"
     ]
    }
   ],
   "source": [
    "import urllib\n",
    "import json\n",
    "\n",
    "#test_address = South Federal University\n",
    "serviceurl = 'http://python-data.dr-chuck.net/geojson?'\n",
    "\n",
    "while True:\n",
    "    address = raw_input('Enter location:')\n",
    "    if len(address) < 1 : break\n",
    "    \n",
    "    url = serviceurl + urllib.urlencode({'sensor':'false','address':address})\n",
    "    print 'Retrieving', url\n",
    "    \n",
    "    data = urllib.urlopen(url).read()   # open a url and reads it. Data is a string\n",
    "    print \"Retrieving\", len(data) , \"Characters\"   \n",
    "    #print type(data)\n",
    "    info = json.loads(data)           # de-serialize the json, the output is a dict Load from string\n",
    "    \n",
    "    place = info[\"results\"][0][\"place_id\"]\n",
    "    print \"Place id\", place\n"
   ]
  },
  {
   "cell_type": "code",
   "execution_count": null,
   "metadata": {
    "collapsed": true
   },
   "outputs": [],
   "source": []
  }
 ],
 "metadata": {
  "kernelspec": {
   "display_name": "Python 2",
   "language": "python",
   "name": "python2"
  },
  "language_info": {
   "codemirror_mode": {
    "name": "ipython",
    "version": 2
   },
   "file_extension": ".py",
   "mimetype": "text/x-python",
   "name": "python",
   "nbconvert_exporter": "python",
   "pygments_lexer": "ipython2",
   "version": "2.7.11+"
  }
 },
 "nbformat": 4,
 "nbformat_minor": 0
}
